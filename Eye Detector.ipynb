{
 "cells": [
  {
   "cell_type": "code",
   "execution_count": 1,
   "metadata": {},
   "outputs": [],
   "source": [
    "This is simply proof of concept for face and eye detection \n\n",
    "import cv2                \n",
    "import matplotlib.pyplot as plt                        \n",
    "%matplotlib inline\n",
    "\n",
    "# extract pre-trained face and eye detectors\n",
    "face_cascade = cv2.CascadeClassifier('/Users/rgoel/Downloads/haarcascades/haarcascade_frontalface_default.xml')\n",
    "eye_cascade = cv2.CascadeClassifier('/Users/rgoel/Downloads/haarcascades/haarcascade_eye.xml')\n",
    "#print(face_cascade.empty())\n",
    "#print(eye_cascade.empty())\n",
    "\n",
    "# capture video\n",
    "cap = cv2.VideoCapture(0) \n",
    "\n",
    "while True: \n",
    "    ret,img = cap.read() \n",
    "    gray = cv2.cvtColor(img, cv2.COLOR_BGR2GRAY) \n",
    "    faces = face_cascade.detectMultiScale(gray)\n",
    "    # get bounding box for each detected face\n",
    "    for (x,y,w,h) in faces:\n",
    "        # add bounding box to color image\n",
    "        #cv2.rectangle(img,(x,y),(x+w,y+h),(255,0,0),2) \n",
    "        roi_gray = gray[y:y+h, x:x+w] \n",
    "        roi_color = img[y:y+h, x:x+w] \n",
    "        eyes = eye_cascade.detectMultiScale(roi_gray)\n",
    "        # get bounding box for each detected eye\n",
    "        for (ex,ey,ew,eh) in eyes: \n",
    "            cv2.rectangle(roi_color,(ex,ey),(ex+95,ey+80),(0,255,0),2) \n",
    "            #cv2.rectangle(roi_color,(ex,ey),(ex+ew,ey+eh),(0,255,0),2) \n",
    "    cv2.imshow('img',img) \n",
    "    k = cv2.waitKey(33)\n",
    "    if k == 27: # Esc key to stop\n",
    "        break\n",
    "    \n",
    "cap.release() \n",
    "cv2.destroyAllWindows() "
   ]
  },
  {
   "cell_type": "code",
   "execution_count": null,
   "metadata": {},
   "outputs": [],
   "source": []
  }
 ],
 "metadata": {
  "kernelspec": {
   "display_name": "Python 3",
   "language": "python",
   "name": "python3"
  },
  "language_info": {
   "codemirror_mode": {
    "name": "ipython",
    "version": 3
   },
   "file_extension": ".py",
   "mimetype": "text/x-python",
   "name": "python",
   "nbconvert_exporter": "python",
   "pygments_lexer": "ipython3",
   "version": "3.7.3"
  }
 },
 "nbformat": 4,
 "nbformat_minor": 2
}
